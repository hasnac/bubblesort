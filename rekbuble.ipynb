{
 "cells": [
  {
   "cell_type": "code",
   "execution_count": 3,
   "id": "5da1200b-501d-4c4e-be47-dc8c138ce31d",
   "metadata": {},
   "outputs": [
    {
     "name": "stdout",
     "output_type": "stream",
     "text": [
      "Data yang sudah diurutkan: [11, 12, 22, 25, 34, 64, 90]\n"
     ]
    }
   ],
   "source": [
    "def recursive_bubble_sort(arr, n=None):\n",
    "    if n is None:\n",
    "        n = len(arr)\n",
    "    if n == 1:\n",
    "        return arr\n",
    "    for i in range(n - 1):\n",
    "        if arr[i] > arr[i + 1]:\n",
    "            arr[i], arr[i + 1] = arr[i + 1], arr[i]\n",
    "    return recursive_bubble_sort(arr, n - 1)\n",
    "data = [64, 34, 25, 12, 22, 11, 90]\n",
    "sorted_data = recursive_bubble_sort(data)\n",
    "print(\"Data yang sudah diurutkan:\", sorted_data)"
   ]
  },
  {
   "cell_type": "code",
   "execution_count": null,
   "id": "503aa096-d3b2-4f60-a427-0167d0252fc4",
   "metadata": {},
   "outputs": [],
   "source": []
  }
 ],
 "metadata": {
  "kernelspec": {
   "display_name": "Python 3 (ipykernel)",
   "language": "python",
   "name": "python3"
  },
  "language_info": {
   "codemirror_mode": {
    "name": "ipython",
    "version": 3
   },
   "file_extension": ".py",
   "mimetype": "text/x-python",
   "name": "python",
   "nbconvert_exporter": "python",
   "pygments_lexer": "ipython3",
   "version": "3.12.4"
  }
 },
 "nbformat": 4,
 "nbformat_minor": 5
}
