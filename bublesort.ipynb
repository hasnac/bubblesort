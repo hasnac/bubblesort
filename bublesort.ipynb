{
 "cells": [
  {
   "cell_type": "code",
   "execution_count": 39,
   "id": "a02783a7-2502-4dbb-85c3-f19dd7236efa",
   "metadata": {},
   "outputs": [
    {
     "name": "stdout",
     "output_type": "stream",
     "text": [
      "Angka yang di cari: "
     ]
    },
    {
     "name": "stdin",
     "output_type": "stream",
     "text": [
      " 2\n"
     ]
    },
    {
     "name": "stdout",
     "output_type": "stream",
     "text": [
      "BubbleSort:  [2, 15, 23, 28, 31, 34, 56, 87, 89, 200]\n",
      "0\n"
     ]
    }
   ],
   "source": [
    "# List input (acak)\n",
    "data = [87, 56, 34, 23, 89, 15, 2, 200, 28, 31]\n",
    "print(\"Angka yang di cari: \", end=\"\")\n",
    "target = int(input())\n",
    "# Bubble Sort\n",
    "n = len(data)\n",
    "for i in range(n):\n",
    "    for j in range(0, n-i-1):\n",
    "        if data[j] > data[j+1]:\n",
    "            data[j], data[j+1] = data[j+1], data[j]\n",
    "\n",
    "print(\"BubbleSort: \", data)\n",
    "\n",
    "low = 0\n",
    "high = len(data) - 1\n",
    "awns = -1\n",
    "while low <= high:\n",
    "    mid = (low + high) // 2\n",
    "    if data[mid] == target:\n",
    "        awns = mid\n",
    "        break\n",
    "    elif data[mid] > target:\n",
    "        high = mid - 1\n",
    "    else:\n",
    "        low = mid + 1\n",
    "print(awns)"
   ]
  },
  {
   "cell_type": "code",
   "execution_count": null,
   "id": "73a0a406-78d3-4066-9cac-d93168a50bb6",
   "metadata": {},
   "outputs": [],
   "source": []
  }
 ],
 "metadata": {
  "kernelspec": {
   "display_name": "Python 3 (ipykernel)",
   "language": "python",
   "name": "python3"
  },
  "language_info": {
   "codemirror_mode": {
    "name": "ipython",
    "version": 3
   },
   "file_extension": ".py",
   "mimetype": "text/x-python",
   "name": "python",
   "nbconvert_exporter": "python",
   "pygments_lexer": "ipython3",
   "version": "3.12.4"
  }
 },
 "nbformat": 4,
 "nbformat_minor": 5
}
